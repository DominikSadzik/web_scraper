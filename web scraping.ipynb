{
 "cells": [
  {
   "cell_type": "code",
   "execution_count": 1,
   "metadata": {},
   "outputs": [],
   "source": [
    "import requests\n",
    "from bs4 import BeautifulSoup"
   ]
  },
  {
   "cell_type": "code",
   "execution_count": 2,
   "metadata": {},
   "outputs": [],
   "source": [
    "r = requests.get('https://pl.wikipedia.org/wiki/Lista_pa%C5%84stw_%C5%9Bwiata_wed%C5%82ug_PKB_nominalnego')\n",
    "soup = BeautifulSoup(r.content, 'html.parser')\n",
    "souptable = soup.find('table', class_=\"wikitable collapsible collapsed sortable\")\n",
    "no_rows = souptable.find_all('tr')"
   ]
  },
  {
   "cell_type": "code",
   "execution_count": 3,
   "metadata": {},
   "outputs": [
    {
     "data": {
      "text/plain": [
       "198"
      ]
     },
     "execution_count": 3,
     "metadata": {},
     "output_type": "execute_result"
    }
   ],
   "source": [
    "len(no_rows)"
   ]
  },
  {
   "cell_type": "code",
   "execution_count": 4,
   "metadata": {},
   "outputs": [],
   "source": [
    "result = []\n",
    "\n",
    "for row in no_rows:\n",
    "    data = row.find_all('td')\n",
    "    #check if it's any value\n",
    "    if len(data) == 0:\n",
    "        continue\n",
    "    pozycja = data[0].getText()\n",
    "    panstwo = data[1].getText()\n",
    "    y_1980 = data[2].getText()\n",
    "    y_1990 = data[3].getText()\n",
    "    y_2000 = data[4].getText()\n",
    "    y_2010 = data[5].getText()\n",
    "    y_2018 = data[6].getText().rstrip()\n",
    "    \n",
    "    result.append([pozycja, panstwo, y_1980, y_1990, y_2000, y_2010, y_2018])"
   ]
  },
  {
   "cell_type": "code",
   "execution_count": 5,
   "metadata": {},
   "outputs": [],
   "source": [
    "import pandas as pd"
   ]
  },
  {
   "cell_type": "code",
   "execution_count": 6,
   "metadata": {},
   "outputs": [
    {
     "data": {
      "text/html": [
       "<div>\n",
       "<style scoped>\n",
       "    .dataframe tbody tr th:only-of-type {\n",
       "        vertical-align: middle;\n",
       "    }\n",
       "\n",
       "    .dataframe tbody tr th {\n",
       "        vertical-align: top;\n",
       "    }\n",
       "\n",
       "    .dataframe thead th {\n",
       "        text-align: right;\n",
       "    }\n",
       "</style>\n",
       "<table border=\"1\" class=\"dataframe\">\n",
       "  <thead>\n",
       "    <tr style=\"text-align: right;\">\n",
       "      <th></th>\n",
       "      <th>Pozycja</th>\n",
       "      <th>Państwo</th>\n",
       "      <th>1980 r.</th>\n",
       "      <th>1990 r.</th>\n",
       "      <th>2000 r.</th>\n",
       "      <th>2010 r.</th>\n",
       "      <th>2018 r.</th>\n",
       "    </tr>\n",
       "  </thead>\n",
       "  <tbody>\n",
       "    <tr>\n",
       "      <th>0</th>\n",
       "      <td>—</td>\n",
       "      <td>Świat</td>\n",
       "      <td>11 156 371</td>\n",
       "      <td>23 521 312</td>\n",
       "      <td>33 858 446</td>\n",
       "      <td>66 073 382</td>\n",
       "      <td>84 929 508</td>\n",
       "    </tr>\n",
       "    <tr>\n",
       "      <th>1</th>\n",
       "      <td>1</td>\n",
       "      <td>Stany Zjednoczone</td>\n",
       "      <td>2 857 325</td>\n",
       "      <td>5 963 125</td>\n",
       "      <td>10 252 350</td>\n",
       "      <td>14 992 050</td>\n",
       "      <td>20 580 250</td>\n",
       "    </tr>\n",
       "    <tr>\n",
       "      <th>2</th>\n",
       "      <td>—</td>\n",
       "      <td>Unia Europejska</td>\n",
       "      <td>3 805 474</td>\n",
       "      <td>7 394 549</td>\n",
       "      <td>8 918 864</td>\n",
       "      <td>17 020 091</td>\n",
       "      <td>18 736 855</td>\n",
       "    </tr>\n",
       "    <tr>\n",
       "      <th>3</th>\n",
       "      <td>—</td>\n",
       "      <td>Strefa euro</td>\n",
       "      <td>b.d.</td>\n",
       "      <td>b.d.</td>\n",
       "      <td>6 489 281</td>\n",
       "      <td>12 653 244</td>\n",
       "      <td>13 639 082</td>\n",
       "    </tr>\n",
       "    <tr>\n",
       "      <th>4</th>\n",
       "      <td>2</td>\n",
       "      <td>Chiny</td>\n",
       "      <td>305 348</td>\n",
       "      <td>398 623</td>\n",
       "      <td>1 214 915</td>\n",
       "      <td>6 066 351</td>\n",
       "      <td>13 368 073</td>\n",
       "    </tr>\n",
       "    <tr>\n",
       "      <th>...</th>\n",
       "      <td>...</td>\n",
       "      <td>...</td>\n",
       "      <td>...</td>\n",
       "      <td>...</td>\n",
       "      <td>...</td>\n",
       "      <td>...</td>\n",
       "      <td>...</td>\n",
       "    </tr>\n",
       "    <tr>\n",
       "      <th>192</th>\n",
       "      <td>187</td>\n",
       "      <td>Wyspy Marshalla</td>\n",
       "      <td>b.d.</td>\n",
       "      <td>b.d.</td>\n",
       "      <td>112</td>\n",
       "      <td>168</td>\n",
       "      <td>214</td>\n",
       "    </tr>\n",
       "    <tr>\n",
       "      <th>193</th>\n",
       "      <td>188</td>\n",
       "      <td>Kiribati</td>\n",
       "      <td>42</td>\n",
       "      <td>43</td>\n",
       "      <td>68</td>\n",
       "      <td>157</td>\n",
       "      <td>189</td>\n",
       "    </tr>\n",
       "    <tr>\n",
       "      <th>194</th>\n",
       "      <td>189</td>\n",
       "      <td>Nauru</td>\n",
       "      <td>b.d.</td>\n",
       "      <td>b.d.</td>\n",
       "      <td>b.d.</td>\n",
       "      <td>47</td>\n",
       "      <td>112</td>\n",
       "    </tr>\n",
       "    <tr>\n",
       "      <th>195</th>\n",
       "      <td>190</td>\n",
       "      <td>Tuvalu</td>\n",
       "      <td>b.d.</td>\n",
       "      <td>b.d.</td>\n",
       "      <td>14</td>\n",
       "      <td>32</td>\n",
       "      <td>42</td>\n",
       "    </tr>\n",
       "    <tr>\n",
       "      <th>196</th>\n",
       "      <td>191</td>\n",
       "      <td>Syria</td>\n",
       "      <td>12 980</td>\n",
       "      <td>12 303</td>\n",
       "      <td>19 861</td>\n",
       "      <td>60 043[5]</td>\n",
       "      <td>b.d.</td>\n",
       "    </tr>\n",
       "  </tbody>\n",
       "</table>\n",
       "<p>197 rows × 7 columns</p>\n",
       "</div>"
      ],
      "text/plain": [
       "    Pozycja             Państwo     1980 r.     1990 r.     2000 r.  \\\n",
       "0         —               Świat  11 156 371  23 521 312  33 858 446   \n",
       "1         1   Stany Zjednoczone   2 857 325   5 963 125  10 252 350   \n",
       "2         —     Unia Europejska   3 805 474   7 394 549   8 918 864   \n",
       "3         —         Strefa euro        b.d.        b.d.   6 489 281   \n",
       "4         2               Chiny     305 348     398 623   1 214 915   \n",
       "..      ...                 ...         ...         ...         ...   \n",
       "192     187     Wyspy Marshalla        b.d.        b.d.         112   \n",
       "193     188            Kiribati          42          43          68   \n",
       "194     189               Nauru        b.d.        b.d.        b.d.   \n",
       "195     190              Tuvalu        b.d.        b.d.          14   \n",
       "196     191               Syria      12 980      12 303      19 861   \n",
       "\n",
       "        2010 r.     2018 r.  \n",
       "0    66 073 382  84 929 508  \n",
       "1    14 992 050  20 580 250  \n",
       "2    17 020 091  18 736 855  \n",
       "3    12 653 244  13 639 082  \n",
       "4     6 066 351  13 368 073  \n",
       "..          ...         ...  \n",
       "192         168         214  \n",
       "193         157         189  \n",
       "194          47         112  \n",
       "195          32          42  \n",
       "196   60 043[5]        b.d.  \n",
       "\n",
       "[197 rows x 7 columns]"
      ]
     },
     "execution_count": 6,
     "metadata": {},
     "output_type": "execute_result"
    }
   ],
   "source": [
    "df = pd.DataFrame(result, columns =['Pozycja', 'Państwo', '1980 r.', '1990 r.', '2000 r.', '2010 r.', '2018 r.'])\n",
    "df"
   ]
  },
  {
   "cell_type": "code",
   "execution_count": 11,
   "metadata": {},
   "outputs": [],
   "source": [
    "df.to_csv(\"PKB_data.csv\")"
   ]
  },
  {
   "cell_type": "code",
   "execution_count": 12,
   "metadata": {},
   "outputs": [],
   "source": [
    "df.to_excel(\"PKB_data.xlsx\")"
   ]
  },
  {
   "cell_type": "code",
   "execution_count": null,
   "metadata": {},
   "outputs": [],
   "source": []
  }
 ],
 "metadata": {
  "kernelspec": {
   "display_name": "Python 3",
   "language": "python",
   "name": "python3"
  },
  "language_info": {
   "codemirror_mode": {
    "name": "ipython",
    "version": 3
   },
   "file_extension": ".py",
   "mimetype": "text/x-python",
   "name": "python",
   "nbconvert_exporter": "python",
   "pygments_lexer": "ipython3",
   "version": "3.8.5"
  }
 },
 "nbformat": 4,
 "nbformat_minor": 4
}
